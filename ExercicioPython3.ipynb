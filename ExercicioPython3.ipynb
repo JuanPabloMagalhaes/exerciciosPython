{
  "nbformat": 4,
  "nbformat_minor": 0,
  "metadata": {
    "colab": {
      "provenance": [],
      "authorship_tag": "ABX9TyNdkuCWmhVplzxaYx4gVBuu",
      "include_colab_link": true
    },
    "kernelspec": {
      "name": "python3",
      "display_name": "Python 3"
    },
    "language_info": {
      "name": "python"
    }
  },
  "cells": [
    {
      "cell_type": "markdown",
      "metadata": {
        "id": "view-in-github",
        "colab_type": "text"
      },
      "source": [
        "<a href=\"https://colab.research.google.com/github/JuanPabloMagalhaes/exerciciosPython/blob/main/ExercicioPython3.ipynb\" target=\"_parent\"><img src=\"https://colab.research.google.com/assets/colab-badge.svg\" alt=\"Open In Colab\"/></a>"
      ]
    },
    {
      "cell_type": "code",
      "source": [
        "#Programa que mostra se o primeiro no da cidade começa com rio.\n",
        "cid = str(input('Em que cidade você nasceu?: ')).upper().strip('')\n",
        "print(cid[0:3] =='RIO')\n"
      ],
      "metadata": {
        "colab": {
          "base_uri": "https://localhost:8080/"
        },
        "id": "JV4kakxzsgO7",
        "outputId": "18ab45e3-adc8-4774-9738-724c4c720f11"
      },
      "execution_count": 24,
      "outputs": [
        {
          "output_type": "stream",
          "name": "stdout",
          "text": [
            "Em que cidade você nasceu?: rio negro\n",
            "True\n"
          ]
        }
      ]
    },
    {
      "cell_type": "code",
      "source": [
        "#Programa que mostra se tem Silva no nome\n",
        "nome = str(input('Qual o seu nome?')).upper().strip()\n",
        "print('O seu nome tem Silva? {}'.format('SILVA' in nome))\n"
      ],
      "metadata": {
        "colab": {
          "base_uri": "https://localhost:8080/"
        },
        "id": "FT5QjPu1tX88",
        "outputId": "45094dda-bdac-4073-cdfa-d7c6cdbc0d7f"
      },
      "execution_count": 26,
      "outputs": [
        {
          "output_type": "stream",
          "name": "stdout",
          "text": [
            "Qual o seu nome?Fernando Amorim da SIlva\n",
            "O seu nome tem Silva? True\n"
          ]
        }
      ]
    },
    {
      "cell_type": "code",
      "source": [
        "#Prgrama que leia a frase e mostre quantas vezes a letra A aparece, quando aparece a primeira vez e quando aparece a ultima vez\n",
        "frase = str(input('Digite uma frase: ')).upper().strip('')\n",
        "print('a letra A aparece {} vezes'.format(frase.count('A')))\n",
        "print('A letra A aparace pela primeira vez na posicão {}'.format(frase.find('A')+1))\n",
        "print('A letra A aparece pela ultima vez na posição: {}'.format(frase.rfind('A')+1))\n",
        "\n",
        "\n"
      ],
      "metadata": {
        "colab": {
          "base_uri": "https://localhost:8080/"
        },
        "id": "6fTvTG45vpby",
        "outputId": "81868146-6600-47e7-8a42-edab018f2ae1"
      },
      "execution_count": 32,
      "outputs": [
        {
          "output_type": "stream",
          "name": "stdout",
          "text": [
            "Digite uma frase: Golaço do Gabigol\n",
            "a letra A aparece 2 vezes\n",
            "A letra A aparace pela primeira vez na posicão 4\n",
            "A letra A aparece pela ultima vez na posição: 12\n"
          ]
        }
      ]
    },
    {
      "cell_type": "markdown",
      "source": [],
      "metadata": {
        "id": "p4W3yL-33HkI"
      }
    },
    {
      "cell_type": "code",
      "source": [
        "#programa que leia o nome completo de uma pessoa e mostre o primeiro e o ultimo nome\n",
        "nome = str(input('Qual o seu nome completo?: ')).split()\n",
        "print('O seu primeiro nome é {}'.format(nome[0]))\n",
        "print('O seu ultimo nome é {}'.format(nome[len(nome)-1]))"
      ],
      "metadata": {
        "colab": {
          "base_uri": "https://localhost:8080/"
        },
        "id": "-D4r2_cP5fdn",
        "outputId": "096c58cd-5dfc-4eac-d26e-e255544b8cbc"
      },
      "execution_count": 35,
      "outputs": [
        {
          "output_type": "stream",
          "name": "stdout",
          "text": [
            "Qual o seu nome completo?: Juan Pablo Magalhães Mattos\n",
            "O seu primeiro nome é Juan\n",
            "O seu ultimo nome é Mattos\n"
          ]
        }
      ]
    }
  ]
}