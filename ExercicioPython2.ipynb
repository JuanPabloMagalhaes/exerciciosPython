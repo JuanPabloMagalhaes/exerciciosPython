{
  "nbformat": 4,
  "nbformat_minor": 0,
  "metadata": {
    "colab": {
      "provenance": [],
      "collapsed_sections": [
        "LHqgFtPOdul7",
        "nB4s_eeJfILM",
        "JxS7z-CwgRhA"
      ],
      "authorship_tag": "ABX9TyNlMKyAJzp+M8m3OR4yLeRV",
      "include_colab_link": true
    },
    "kernelspec": {
      "name": "python3",
      "display_name": "Python 3"
    },
    "language_info": {
      "name": "python"
    }
  },
  "cells": [
    {
      "cell_type": "markdown",
      "metadata": {
        "id": "view-in-github",
        "colab_type": "text"
      },
      "source": [
        "<a href=\"https://colab.research.google.com/github/JuanPabloMagalhaes/exerciciosPython/blob/main/ExercicioPython2.ipynb\" target=\"_parent\"><img src=\"https://colab.research.google.com/assets/colab-badge.svg\" alt=\"Open In Colab\"/></a>"
      ]
    },
    {
      "cell_type": "code",
      "execution_count": 1,
      "metadata": {
        "id": "_OK9lwY9SiY7"
      },
      "outputs": [],
      "source": [
        "import math\n",
        "import random"
      ]
    },
    {
      "cell_type": "code",
      "source": [
        "#Função que escolhe um número inteiro aleatório num raio de valores escolhidos, no caso de 1 a 10\n",
        "num = random.randint(1, 10)\n",
        "print(num)"
      ],
      "metadata": {
        "colab": {
          "base_uri": "https://localhost:8080/"
        },
        "id": "e4pppJC6XpWI",
        "outputId": "0d642405-b895-4bc7-ed28-66a274807758"
      },
      "execution_count": null,
      "outputs": [
        {
          "output_type": "stream",
          "name": "stdout",
          "text": [
            "10\n"
          ]
        }
      ]
    },
    {
      "cell_type": "code",
      "source": [
        "#função raiz quadrada sqrt() da biblioteca math e de arredondamento para baixo com a função floor()\n",
        "num = int(input('Calcular a raiz quadrada de: '))\n",
        "raiz = math.sqrt(num)\n",
        "print('A raiz quadrada de {} é {}' .format(num, math.floor(raiz)))"
      ],
      "metadata": {
        "colab": {
          "base_uri": "https://localhost:8080/"
        },
        "id": "Kd2DkoT6SnnT",
        "outputId": "9281a6c6-22c6-4cdb-a37a-c1d716153894"
      },
      "execution_count": null,
      "outputs": [
        {
          "output_type": "stream",
          "name": "stdout",
          "text": [
            "Calcular a raiz quadrada de: 29\n",
            "A raiz quadrada de 29 é 5\n"
          ]
        }
      ]
    },
    {
      "cell_type": "markdown",
      "source": [
        "# Programa que leia o comprimento do cateto oposto e adjacente de um triângulo retangulo e mostre o comprimento da hipotenusa."
      ],
      "metadata": {
        "id": "LHqgFtPOdul7"
      }
    },
    {
      "cell_type": "code",
      "source": [
        "#Metodo utilizando a função math.hypot da biblioteca math\n",
        "'''catOp = int(input('Qual o comprimento do cateto oposto?: '))\n",
        "catAd = int(input('Qual o comprimento do cateto adjacente?:  '))\n",
        "hi = math.hypot(catOp, catAd)\n",
        "\n",
        "print('O comprimento da hipotenusa é de {}' .format(hi))'''\n",
        "\n",
        "#Metódo utilizando formula matemática\n",
        "catOp = int(input('Qual o comprimento do cateto oposto?: '))\n",
        "catAd = int(input('Qual o comprimento do cateto Adjacente?: '))\n",
        "hipo = (catOp**2 + catAd**2)\n",
        "quadHipo = math.sqrt(hipo)\n",
        "\n",
        "print('O comprimento da hipotenusa é de {}' .format(quadHipo))"
      ],
      "metadata": {
        "colab": {
          "base_uri": "https://localhost:8080/"
        },
        "id": "MKyOHwY3eCZk",
        "outputId": "c3aba97a-9023-4516-a73d-6f6b2a0d602c"
      },
      "execution_count": null,
      "outputs": [
        {
          "output_type": "stream",
          "name": "stdout",
          "text": [
            "Qual o comprimento do cateto oposto?: 6\n",
            "Qual o comprimento do cateto Adjacente?: 8\n",
            "O comprimento da hipotenusa é de 10.0\n"
          ]
        }
      ]
    },
    {
      "cell_type": "markdown",
      "source": [
        "#Programa que leia um ângulo qualquer e mostre o valor do seno, cosseno e tangente desse ângulo"
      ],
      "metadata": {
        "id": "nB4s_eeJfILM"
      }
    },
    {
      "cell_type": "code",
      "source": [
        "#A função seno, cosseno, tangente da biblioteca math vem como padrão os parametros em graus centígrados, sendo assim tendo que transforma-lo em graus radianos\n",
        "angulo = float(input('Digite o Ângulo que você deseja calcular? : '))\n",
        "\n",
        "seno = math.sin(math.radians(angulo))\n",
        "cos = math.cos(math.radians(angulo))\n",
        "tangente = math.tan(math.radians(angulo))\n",
        "print('O seno de {} é {:.2f}' .format(angulo, seno))\n",
        "print('O cosseno de {} é {:.2f}' .format(angulo, cos))\n",
        "print('A tangente de {} é {:.2f}' .format(angulo, tangente))"
      ],
      "metadata": {
        "colab": {
          "base_uri": "https://localhost:8080/"
        },
        "id": "kchPb4QTfZ2i",
        "outputId": "32e1332f-a883-474b-9560-18972ca5aa87"
      },
      "execution_count": null,
      "outputs": [
        {
          "output_type": "stream",
          "name": "stdout",
          "text": [
            "Digite o Ângulo que você deseja calcular? : 45\n",
            "O seno de 45.0 é 0.71\n",
            "O cosseno de 45.0 é 0.71\n",
            "A tangente de 45.0 é 1.00\n"
          ]
        }
      ]
    },
    {
      "cell_type": "markdown",
      "source": [
        "# Um professor quer sortear um dos quatros alunos para apagar o quadro, crie um programa que leia o nome deles e escreve o nome escolhido."
      ],
      "metadata": {
        "id": "JxS7z-CwgRhA"
      }
    },
    {
      "cell_type": "code",
      "source": [
        "#Introdução a lista e uso do random.choice para escolher um valor aleatorio dentro da lista\n",
        "n1 = str(input('Nome do primeiro aluno: '))\n",
        "n2 = str(input('Nome do segundo aluno: '))\n",
        "n3 = str(input('Nome do terceiro aluno: '))\n",
        "n4 = str(input('nome do terceiro aluno: '))\n",
        "\n",
        "lista = [n1, n2, n3, n4]\n",
        "escolhido = random.choice(lista)\n",
        "\n",
        "print('O escolhido foi o(a) {}' .format(escolhido))\n",
        "\n"
      ],
      "metadata": {
        "colab": {
          "base_uri": "https://localhost:8080/"
        },
        "id": "A2GU9KYsgffW",
        "outputId": "975d7505-4707-4184-8d55-ba7faf2999db"
      },
      "execution_count": null,
      "outputs": [
        {
          "output_type": "stream",
          "name": "stdout",
          "text": [
            "Nome do primeiro aluno: Pedro\n",
            "Nome do segundo aluno: Maria\n",
            "Nome do terceiro aluno: João\n",
            "nome do terceiro aluno: Ana\n",
            "O escolhido foi o(a) Pedro\n"
          ]
        }
      ]
    },
    {
      "cell_type": "markdown",
      "source": [
        "# Crie um programa que leia um número Real qualquer pelo teclado e mostre na tela a sua porção Inteira."
      ],
      "metadata": {
        "id": "TMKD4A7dmwxE"
      }
    },
    {
      "cell_type": "code",
      "source": [
        "#Função trunc() que mostra somente a parte inteira de um número real\n",
        "num = float(input('Digite um número real: '))\n",
        "print('A parte inteira de {} é {}' .format(num, math.trunc(num)))"
      ],
      "metadata": {
        "colab": {
          "base_uri": "https://localhost:8080/"
        },
        "id": "bmIarhLWm2cH",
        "outputId": "4abac6ae-bd3f-4016-dc24-776c1615ae41"
      },
      "execution_count": null,
      "outputs": [
        {
          "output_type": "stream",
          "name": "stdout",
          "text": [
            "Digite um número real: 9.896\n",
            "A parte inteira de 9.896 é 9\n"
          ]
        }
      ]
    },
    {
      "cell_type": "markdown",
      "source": [
        "# O mesmo professor quer sortear uma ordem de apresentação de trabalhos dos alunos. Crie um programa que leia o nome dos quatro alunos e mostre a ordem sorteada."
      ],
      "metadata": {
        "id": "63WYtW_vXyzD"
      }
    },
    {
      "cell_type": "code",
      "source": [
        "n1 = str(input('Nome do primeiro aluno?: '))\n",
        "n2 = str(input('Nome do segundo aluno?: '))\n",
        "n3 = str(input('Nome do terceiro aluno?: '))\n",
        "n4 = str(input('Nome do quarto aluno?: '))\n",
        "\n",
        "lista = [n1, n2, n3, n4]\n",
        "\n",
        "random.shuffle(lista)\n",
        "\n",
        "print(lista)"
      ],
      "metadata": {
        "colab": {
          "base_uri": "https://localhost:8080/"
        },
        "id": "eL6kph7hYF7F",
        "outputId": "07fed973-1a3f-4619-e01a-2f55aac30816"
      },
      "execution_count": 14,
      "outputs": [
        {
          "output_type": "stream",
          "name": "stdout",
          "text": [
            "Nome do primeiro aluno?: Ana\n",
            "Nome do segundo aluno?: Júlia\n",
            "Nome do terceiro aluno?: Pedro\n",
            "Nome do quarto aluno?: Lucas\n",
            "['Júlia', 'Pedro', 'Lucas', 'Ana']\n"
          ]
        }
      ]
    }
  ]
}