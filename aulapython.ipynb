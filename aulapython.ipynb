{
  "nbformat": 4,
  "nbformat_minor": 0,
  "metadata": {
    "colab": {
      "provenance": [],
      "authorship_tag": "ABX9TyNtgBt8k6mdXGrdyp99QHEy",
      "include_colab_link": true
    },
    "kernelspec": {
      "name": "python3",
      "display_name": "Python 3"
    },
    "language_info": {
      "name": "python"
    }
  },
  "cells": [
    {
      "cell_type": "markdown",
      "metadata": {
        "id": "view-in-github",
        "colab_type": "text"
      },
      "source": [
        "<a href=\"https://colab.research.google.com/github/JuanPabloMagalhaes/exerciciosPython/blob/main/aulapython.ipynb\" target=\"_parent\"><img src=\"https://colab.research.google.com/assets/colab-badge.svg\" alt=\"Open In Colab\"/></a>"
      ]
    },
    {
      "cell_type": "code",
      "execution_count": 5,
      "metadata": {
        "id": "NZkiZ6I98G1s",
        "colab": {
          "base_uri": "https://localhost:8080/"
        },
        "outputId": "9baeae3d-e7a3-4148-d39c-98b1c595b5b5"
      },
      "outputs": [
        {
          "output_type": "stream",
          "name": "stdout",
          "text": [
            "Digite um valor: 10\n",
            "Digite outro valor: 3\n",
            "A soma do valor 10 com o valor 3 é de: 13!\n"
          ]
        }
      ],
      "source": [
        "n1 = int(input('Digite um valor: '))\n",
        "n2 = int(input('Digite outro valor: '))\n",
        "s = n1 + n2\n",
        "\n",
        "print('A soma do valor {} com o valor {} é de: {}!' .format(n1, n2, s))\n"
      ]
    },
    {
      "cell_type": "code",
      "source": [
        "n1 = int(input('Digite um número: '))\n",
        "n2 = int(input('Digite outro número: '))\n",
        "\n",
        "print('A soma vale:{}' .format(n1 +n2))\n",
        "print('A subtração vale:{}'.format(n1-n2))\n",
        "print('A potencia vale:{}' .format(n1**n2))\n",
        "print('A divisão vale:{}' .format(n1/n2))\n",
        "print('A divisão inteira vale:{}' . format(n1//n2))"
      ],
      "metadata": {
        "colab": {
          "base_uri": "https://localhost:8080/"
        },
        "id": "eIZFNbVVy-fc",
        "outputId": "483129a3-fada-48bb-96e4-e2affe475ce0"
      },
      "execution_count": 24,
      "outputs": [
        {
          "output_type": "stream",
          "name": "stdout",
          "text": [
            "Digite um número: 10\n",
            "Digite outro número: 5\n",
            "A soma vale:15\n",
            "A subtração vale:5\n",
            "A potencia vale:100000\n",
            "A divisão vale:2.0\n",
            "A divisão inteira vale:2\n"
          ]
        }
      ]
    },
    {
      "cell_type": "markdown",
      "source": [
        "# Programa que lê um número inteiro e mostre na tela o seu sucessor e antecessor"
      ],
      "metadata": {
        "id": "XmtmFMOzFXgB"
      }
    },
    {
      "cell_type": "code",
      "source": [
        "num1 = int(input('Digite um valor: '))\n",
        "s = num1 + 1\n",
        "a = num1 - 1\n",
        "print('O Sucessor do número {} é {} e o antecessor é {}' .format(num1, s, a))"
      ],
      "metadata": {
        "colab": {
          "base_uri": "https://localhost:8080/"
        },
        "id": "Fcm6DNCHF1OT",
        "outputId": "9ef46bb2-55ca-4a14-b1a0-762b468261cb"
      },
      "execution_count": 25,
      "outputs": [
        {
          "output_type": "stream",
          "name": "stdout",
          "text": [
            "Digite um valor: 10\n",
            "O Sucessor do número 10 é 11 e o antecessor é 9\n"
          ]
        }
      ]
    },
    {
      "cell_type": "markdown",
      "source": [
        "# Programa que mostra o dobro o triplo e a raiz quadrada de um valor inteiro"
      ],
      "metadata": {
        "id": "7B3tkOK1HnPo"
      }
    },
    {
      "cell_type": "code",
      "source": [
        "num1 = int(input('Digite um número: '))\n",
        "dobro = num1*2\n",
        "triplo = num1*3\n",
        "raizQ = num1**(1/2)\n",
        "\n",
        "print('O dobro de {} é {}'.format(num1, dobro))\n",
        "print('O triplo de {} é {}' .format(num1, triplo))\n",
        "print('A raiz quadrada de {} é {}' .format(num1, raizQ))"
      ],
      "metadata": {
        "colab": {
          "base_uri": "https://localhost:8080/"
        },
        "id": "9pvGNc3SHum4",
        "outputId": "76b670b9-cc3c-49db-cfde-e4d5172d707c"
      },
      "execution_count": 27,
      "outputs": [
        {
          "output_type": "stream",
          "name": "stdout",
          "text": [
            "Digite um número: 9\n",
            "O dobro de 9 é 18\n",
            "O triplo de 9 é 27\n",
            "A raiz quadrada de 9 é 3.0\n"
          ]
        }
      ]
    },
    {
      "cell_type": "markdown",
      "source": [
        "# Programa que leia as duas notas de um aluno e calcule a média"
      ],
      "metadata": {
        "id": "VQj6ymBGI-gL"
      }
    },
    {
      "cell_type": "code",
      "source": [
        "num1 = int(input('Digite sua primeira nota: '))\n",
        "num2 = int(input('Digite sua segunda nota: '))\n",
        "media = (num1+num2)/2\n",
        "\n",
        "print('A sua média é: {}' .format(media))"
      ],
      "metadata": {
        "colab": {
          "base_uri": "https://localhost:8080/"
        },
        "id": "tnoJazAtJEiM",
        "outputId": "25389bfb-63f7-4481-ff28-35d430b07754"
      },
      "execution_count": 30,
      "outputs": [
        {
          "output_type": "stream",
          "name": "stdout",
          "text": [
            "Digite sua primeira nota: 10\n",
            "Digite sua segunda nota: 7\n",
            "A sua média é: 8.5\n"
          ]
        }
      ]
    },
    {
      "cell_type": "markdown",
      "source": [
        "# Número em metros e exibir em centimetros e milimetros"
      ],
      "metadata": {
        "id": "jX8ao8QfJpb8"
      }
    },
    {
      "cell_type": "code",
      "source": [
        "metros = float(input('Digite o número de metros: '))\n",
        "cent = float(metros*100)\n",
        "mili = float(metros*1000)\n",
        "\n",
        "print('O valor de {} metros em centimetros é {} cm e em milimetros é {} mm' .format(metros, cent, mili))"
      ],
      "metadata": {
        "colab": {
          "base_uri": "https://localhost:8080/"
        },
        "id": "7yKZZkBdJ19Q",
        "outputId": "2e91a4d6-58e8-4af9-d401-00720098eb9c"
      },
      "execution_count": 38,
      "outputs": [
        {
          "output_type": "stream",
          "name": "stdout",
          "text": [
            "Digite o número de metros: 1.80\n",
            "O valor de 1.8 metros em centimetros é 180.0 cm e em milimetros é 1800.0 mm\n"
          ]
        }
      ]
    },
    {
      "cell_type": "markdown",
      "source": [
        "# Quanto dinheiro a pessoa tem na carteira e quantos dolares ela pode comprar"
      ],
      "metadata": {
        "id": "QRwT2b9ANwGS"
      }
    },
    {
      "cell_type": "code",
      "source": [
        "din = float(input('Quantos você tem na sua conta?: '))\n",
        "dollar = float(4.81)\n",
        "compra = float(din//dollar)\n",
        "\n",
        "print('Você pode comprar {} Dolares, tendo {} reais' .format(compra, din))"
      ],
      "metadata": {
        "colab": {
          "base_uri": "https://localhost:8080/"
        },
        "id": "6Tk-859vN3Vm",
        "outputId": "a586fc32-e8ea-4702-ccb0-13e543f8b2cd"
      },
      "execution_count": 51,
      "outputs": [
        {
          "output_type": "stream",
          "name": "stdout",
          "text": [
            "Quantos você tem na sua conta?: 250.99\n",
            "Você pode comprar 52.0 Dolares, tendo 250.99 reais\n"
          ]
        }
      ]
    },
    {
      "cell_type": "markdown",
      "source": [
        "# Quanto litros de tinta por metro quadrado de uma parede"
      ],
      "metadata": {
        "id": "_5rbiEGnPAmW"
      }
    },
    {
      "cell_type": "code",
      "source": [
        "altura = float(input('Qual a altura da sua parede?: '))\n",
        "largura = float(input('Qual a largura da sua parede?; '))\n",
        "m2 = float(altura*largura)\n",
        "litros = float(m2/2)\n",
        "\n",
        "print('O metro quadrado da sua parede é de {} e você precisa de {} litros para pintar sua parede' .format(m2, litros))\n",
        "\n"
      ],
      "metadata": {
        "colab": {
          "base_uri": "https://localhost:8080/"
        },
        "id": "uhuZE4tQPkHV",
        "outputId": "961e3981-4a4c-44f4-cd1e-32d52024f4e1"
      },
      "execution_count": 56,
      "outputs": [
        {
          "output_type": "stream",
          "name": "stdout",
          "text": [
            "Qual a altura da sua parede?: 2.70\n",
            "Qual a largura da sua parede?; 5.30\n",
            "O metro quadrado da sua parede é de 14.31 e você precisa de 7.155 litros para pintar sua parede\n"
          ]
        }
      ]
    },
    {
      "cell_type": "markdown",
      "source": [
        "# calcula o novo preço de um produto após o desconto"
      ],
      "metadata": {
        "id": "_vWdytqKQ9g6"
      }
    },
    {
      "cell_type": "code",
      "source": [
        "valor = float(input('Qual o valor do produto que quer aplicar 5% de desconto?: '))\n",
        "desconto = float(5/100)*valor\n",
        "desconto2 = float(valor - desconto)\n",
        "\n",
        "print('O produto que custa {} agora com 5% de desconto custa {}' .format(valor, desconto2))"
      ],
      "metadata": {
        "colab": {
          "base_uri": "https://localhost:8080/"
        },
        "id": "sE_TgxZaRDx0",
        "outputId": "b8701e0b-0c60-4d80-d044-aafb1c2cb1d5"
      },
      "execution_count": 58,
      "outputs": [
        {
          "output_type": "stream",
          "name": "stdout",
          "text": [
            "Qual o valor do produto que quer aplicar 5% de desconto?: 250.00\n",
            "O produto que custa 250.0 agora com 5% de desconto custa 237.5\n"
          ]
        }
      ]
    },
    {
      "cell_type": "markdown",
      "source": [
        "# Novo salário com aumento de 15%"
      ],
      "metadata": {
        "id": "uNQ4HPVoSXbR"
      }
    },
    {
      "cell_type": "code",
      "source": [
        "salario = float(input('Qual o seu salário?: '))\n",
        "aumento = float(15/100)*salario\n",
        "aumento2 = float(salario + aumento)\n",
        "\n",
        "print('O seu novo salário com 15% de aumento de de {}' .format(aumento2))"
      ],
      "metadata": {
        "colab": {
          "base_uri": "https://localhost:8080/"
        },
        "id": "I7vsC7VASi_1",
        "outputId": "1a7f04c1-8256-4b54-bd10-1fd418b3f910"
      },
      "execution_count": 60,
      "outputs": [
        {
          "output_type": "stream",
          "name": "stdout",
          "text": [
            "Qual o seu salário?: 2.500\n",
            "O seu novo salário com 15% de aumento de de 2.875\n"
          ]
        }
      ]
    }
  ]
}