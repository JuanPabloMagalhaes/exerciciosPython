{
  "nbformat": 4,
  "nbformat_minor": 0,
  "metadata": {
    "colab": {
      "provenance": [],
      "authorship_tag": "ABX9TyP67olCTqcQhyo3NZvClY63",
      "include_colab_link": true
    },
    "kernelspec": {
      "name": "python3",
      "display_name": "Python 3"
    },
    "language_info": {
      "name": "python"
    }
  },
  "cells": [
    {
      "cell_type": "markdown",
      "metadata": {
        "id": "view-in-github",
        "colab_type": "text"
      },
      "source": [
        "<a href=\"https://colab.research.google.com/github/JuanPabloMagalhaes/exerciciosPython/blob/main/ExercicioPython4.ipynb\" target=\"_parent\"><img src=\"https://colab.research.google.com/assets/colab-badge.svg\" alt=\"Open In Colab\"/></a>"
      ]
    },
    {
      "cell_type": "markdown",
      "source": [
        "#Condição simples\n",
        "Sempre irá dar bom dia\n",
        "Mas se o nome for Juan ele dirá que nome bonito"
      ],
      "metadata": {
        "id": "ffFjOl3npj9Z"
      }
    },
    {
      "cell_type": "code",
      "source": [
        "nome = str(input('Qual o seu nome? '))\n",
        "if nome == 'Juan':\n",
        "  print('Que nome bonito!')\n",
        "print('Bom dia {}!'.format(nome))"
      ],
      "metadata": {
        "colab": {
          "base_uri": "https://localhost:8080/"
        },
        "id": "ldH4yalZpoIK",
        "outputId": "1ba41fa5-8b9b-4a38-86a5-2d0442dea03d"
      },
      "execution_count": null,
      "outputs": [
        {
          "output_type": "stream",
          "name": "stdout",
          "text": [
            "Qual o seu nome? Juan\n",
            "Que nome bonito!\n",
            "Bom dia Juan!\n"
          ]
        }
      ]
    },
    {
      "cell_type": "markdown",
      "source": [
        "#Condição Composta"
      ],
      "metadata": {
        "id": "L_U2QsvbpqES"
      }
    },
    {
      "cell_type": "code",
      "source": [
        "idade = int(input('Qual a sua idade?: '))\n",
        "if idade>= 18:\n",
        "  print('você já pode tirar carteira de motorista!')\n",
        "else:\n",
        "  print('você não pode tirar carteira ainda!')\n",
        "\n",
        "#Mesma condição porém menos linhas\n",
        "  \"\"\"idade = int(input('Qual a sua idade?: '))\n",
        "print('Você já pode tirar carteira'if idade>=18 else 'Você não pode tirar carteira ainda: ')\"\"\""
      ],
      "metadata": {
        "colab": {
          "base_uri": "https://localhost:8080/"
        },
        "id": "Exs3V1qokgfh",
        "outputId": "0467a88a-305f-4672-99a0-fc4600725325"
      },
      "execution_count": null,
      "outputs": [
        {
          "output_type": "stream",
          "name": "stdout",
          "text": [
            "Qual a sua idade?: 18\n",
            "você já pode tirar carteira de motorista!\n"
          ]
        }
      ]
    },
    {
      "cell_type": "markdown",
      "source": [
        "#**DESAFIOS**"
      ],
      "metadata": {
        "id": "dnyynV0vxVQU"
      }
    },
    {
      "cell_type": "code",
      "source": [
        "#Aluno aprovado ou reprovado\n",
        "n1 = float(input('Sua primeira nota: '))\n",
        "n2 = float(input('Sua segunda nota: '))\n",
        "m = (n1+n2)/2\n",
        "print('Sua media foi {:.1f}'.format(m))\n",
        "\n",
        "if m>=6.0:\n",
        "  print('Parabéns você foi aprovado')\n",
        "else:\n",
        "  print('Infelizmente você foi reprovado: ')"
      ],
      "metadata": {
        "colab": {
          "base_uri": "https://localhost:8080/"
        },
        "id": "s3EkMx4owIJ5",
        "outputId": "575b50ec-9bde-41e0-b9a0-5071b7534ea4"
      },
      "execution_count": null,
      "outputs": [
        {
          "output_type": "stream",
          "name": "stdout",
          "text": [
            "Sua primeira nota: 7\n",
            "Sua segunda nota: 5\n",
            "Sua media foi 6.0\n",
            "Parabéns você foi aprovado\n"
          ]
        }
      ]
    },
    {
      "cell_type": "code",
      "source": [
        "\"\"\"crie um rograma que faça o computador pensar em um número inteiro entre 0 e 5\n",
        " e peça pra que o usuário tente descobrir qual foi o número escolhido pelo computador.\n",
        " O programa deverá escrever na tela se o usuário venceu ou perdeu\"\"\"\n",
        "\n",
        "import random\n",
        "print('Vou pensar em um número de 0 a 5 tente adivinhar: ')\n",
        "\n",
        "num = random.randint(0,5)\n",
        "predict = int(input('Adivinhe o número escolhido pelo computador: '))\n",
        "if predict == num:\n",
        "  print('PARABÉNS!, você acertou, o número foi {}'.format(num))\n",
        "else:\n",
        "  print('Infelizmente você errou, o número foi {}'.format(num))"
      ],
      "metadata": {
        "colab": {
          "base_uri": "https://localhost:8080/"
        },
        "id": "RmyMPH6Zxt_M",
        "outputId": "3c8f25e9-6281-48e4-fffb-7b3968237708"
      },
      "execution_count": null,
      "outputs": [
        {
          "output_type": "stream",
          "name": "stdout",
          "text": [
            "Vou pensar em um número de 0 a 5 tente adivinhar: \n",
            "Adivinhe o número escolhido pelo computador: 2\n",
            "Infelizmente você errou, o número foi 0\n"
          ]
        }
      ]
    },
    {
      "cell_type": "code",
      "source": [
        "\"\"\"Escreva um programa que leia a velocidade de um carro.\n",
        "Se ele ultrapassar 80km/h. mostre uma mensagem dizendo que ele foi multado.\n",
        "A multa vai custar R$7,00 por cada km acima do limite.\"\"\"\n",
        "\n",
        "velocidade = float(input('Qual a velocidade do carro?: '))\n",
        "multa = (velocidade - 80)*7\n",
        "\n",
        "if velocidade > 80:\n",
        "  print('Você foi excedeu o limite de 80Km/h \\nvocê foi multado em multado em R$:{:.2f}'.format(multa))\n",
        "print('Tenha um bom dia, Dirija com segurança')\n"
      ],
      "metadata": {
        "colab": {
          "base_uri": "https://localhost:8080/"
        },
        "id": "QGwn1kaN1FnQ",
        "outputId": "d3cd0bea-02cd-4a9a-c906-07257cc7a5c2"
      },
      "execution_count": null,
      "outputs": [
        {
          "output_type": "stream",
          "name": "stdout",
          "text": [
            "Qual a velocidade do carro?: 120\n",
            "Você foi excedeu o limite de 80Km/h \n",
            "você foi multado em multado em R$:280.00\n",
            "Tenha um bom dia, Dirija com segurança\n"
          ]
        }
      ]
    },
    {
      "cell_type": "code",
      "source": [
        "#crie um programa que leia um número inteiro e mostre se o numéro ele é par ou impar\n",
        "num = int(input('Digite um número: '))\n",
        "resultado = num % 2 #o resto da divisão por 2 de todo numero par é 0 e de todo impar é 1\n",
        "if resultado == 0:\n",
        "  print('O número {} é par'.format(num))\n",
        "else:\n",
        "  print('O número {} é impar'.format(num))\n",
        "\n"
      ],
      "metadata": {
        "colab": {
          "base_uri": "https://localhost:8080/"
        },
        "id": "fVpd4wWm7BfD",
        "outputId": "0ac6a5bc-578a-4108-be6c-f5c4cd18a668"
      },
      "execution_count": null,
      "outputs": [
        {
          "output_type": "stream",
          "name": "stdout",
          "text": [
            "Digite um número: 81\n",
            "O número 81 é impar\n"
          ]
        }
      ]
    },
    {
      "cell_type": "code",
      "source": [
        "\"\"\"Desenvolva um programa que pergunte a distancia de uma viagem em Km.\n",
        "Calcule o preço da passagem, cobrando  R$0,50 por km para viagens de 200km\n",
        "E R$0,45 para viagens mais longas\"\"\"\n",
        "\n",
        "km = int(input('Quantos Km tem sua viagem?: '))\n",
        "if km<=200:\n",
        "  print('O valor da passagem é R${}'.format(km*0.50))\n",
        "else:\n",
        "  print('O valor da passagem é R${}'.format(km*0.45))"
      ],
      "metadata": {
        "colab": {
          "base_uri": "https://localhost:8080/"
        },
        "id": "Rh-ragDI8NLV",
        "outputId": "28060afb-b12d-4f2f-ed9e-87238393d107"
      },
      "execution_count": null,
      "outputs": [
        {
          "output_type": "stream",
          "name": "stdout",
          "text": [
            "Quantos Km tem sua viagem?: 1000\n",
            "O valor da passagem é R$450.0\n"
          ]
        }
      ]
    },
    {
      "cell_type": "code",
      "source": [
        "#Faça um programa que leia um ano qualquer e mostre se ele é BISSEXTO.\n",
        "ano = int(input('Que ano quer analisar?: '))\n",
        "if ano % 4 == 0 and ano % 100 != 0 or ano % 400 == 0:\n",
        "  print('O ano {} é bissexto'.format(ano))\n",
        "else:\n",
        "  print('O ano {} não é bissexto'.format(ano))\n"
      ],
      "metadata": {
        "colab": {
          "base_uri": "https://localhost:8080/"
        },
        "id": "Dnejzjxn8zBF",
        "outputId": "717bdaf3-978a-4bcb-8985-0823212cc8fe"
      },
      "execution_count": null,
      "outputs": [
        {
          "output_type": "stream",
          "name": "stdout",
          "text": [
            "Que ano quer analisar?: 1900\n",
            "O ano 1900 não é bissexto\n"
          ]
        }
      ]
    },
    {
      "cell_type": "code",
      "source": [
        "#Faça um program que leia três números e mostre qual é o maior e qual é o menor.\n",
        "a = int(input('Primeiro valor: '))\n",
        "b = int(input('Segundo valor: '))\n",
        "c = int(input('Terceiro valor: '))\n",
        "menor = a\n",
        "#verificando o menor\n",
        "if b < a and b < c:\n",
        "  menor = b\n",
        "if  c < a and c < b:\n",
        "  menor = c\n",
        "#Verificando o maior\n",
        "if b > a and b > c:\n",
        "  maior = b\n",
        "if c > a and c > b:\n",
        "  maior = c\n",
        "print('O menor valor digitado foi {}'.format(menor))\n",
        "print('O maior valor digitado foi {}'.format(maior))\n"
      ],
      "metadata": {
        "id": "R8nUzEji859G",
        "colab": {
          "base_uri": "https://localhost:8080/"
        },
        "outputId": "68b115ab-51a1-44d7-8976-7866832e918e"
      },
      "execution_count": 1,
      "outputs": [
        {
          "output_type": "stream",
          "name": "stdout",
          "text": [
            "Primeiro valor: 3\n",
            "Segundo valor: 5\n",
            "Terceiro valor: 7\n",
            "O menor valor digitado foi 3\n",
            "O maior valor digitado foi 7\n"
          ]
        }
      ]
    },
    {
      "cell_type": "code",
      "source": [
        "\"\"\"Faça um programa que pergunte o salário de um funcionário e calcule o valor do seu aumento.\n",
        "Para salario superiores a R$1.120.00, calcule um aumento de 10%\n",
        "Para os inferiores ou iguais, o aumento é de 15%\"\"\"\n",
        "\n",
        "salario = float(input('Qual o seu salário?: R$: '))\n",
        "if salario >= 1250:\n",
        "  print('Com o aumento de 10% seu novo salário é {}'.format(salario + (salario*15/100)))\n",
        "else:\n",
        "  print('Com o aumento de 10% seu novo salário é {}'.format(salario + (salario*10/100)))\n",
        ""
      ],
      "metadata": {
        "id": "4Y6XFMRh9HKp",
        "colab": {
          "base_uri": "https://localhost:8080/"
        },
        "outputId": "177a755b-25ab-4c7b-e75b-41f267dcc91d"
      },
      "execution_count": 13,
      "outputs": [
        {
          "output_type": "stream",
          "name": "stdout",
          "text": [
            "Qual o seu salário?: R$: 1000\n",
            "Com o aumento de 10% seu novo salário é 1100.0\n"
          ]
        }
      ]
    },
    {
      "cell_type": "code",
      "source": [
        "#Desenvolva um programa que leia o comprimento de três retas e diga se elas podrem ou não formar um triângulo\n",
        "a = float(input('Medida do comprimento A: '))\n",
        "b = float(input('Medida do comprimento B: '))\n",
        "c = float(input('Medida do comprimento C: '))\n",
        "if a < b + c and b < a + c or c < b + a:\n",
        "  print('É possivel formar um triângulo')\n",
        "else:\n",
        "  print('Não é possível formar um triângulo')"
      ],
      "metadata": {
        "id": "lnPNnUwh9hWr",
        "colab": {
          "base_uri": "https://localhost:8080/"
        },
        "outputId": "7a53ac61-e7d3-440b-9b55-9480a982195d"
      },
      "execution_count": 22,
      "outputs": [
        {
          "output_type": "stream",
          "name": "stdout",
          "text": [
            "Medida do comprimento A: 2\n",
            "Medida do comprimento B: 4\n",
            "Medida do comprimento C: 6\n",
            "É possivel formar um triângulo\n"
          ]
        }
      ]
    }
  ]
}